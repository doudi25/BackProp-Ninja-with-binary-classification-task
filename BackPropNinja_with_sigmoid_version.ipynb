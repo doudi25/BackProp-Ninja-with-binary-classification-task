{
  "nbformat": 4,
  "nbformat_minor": 0,
  "metadata": {
    "colab": {
      "provenance": [],
      "authorship_tag": "ABX9TyNWtIjidfUJ0xBoC4IHi0Fv",
      "include_colab_link": true
    },
    "kernelspec": {
      "name": "python3",
      "display_name": "Python 3"
    },
    "language_info": {
      "name": "python"
    }
  },
  "cells": [
    {
      "cell_type": "markdown",
      "metadata": {
        "id": "view-in-github",
        "colab_type": "text"
      },
      "source": [
        "<a href=\"https://colab.research.google.com/github/doudi25/BackProp-Ninja-with-binary-classification-task/blob/main/BackPropNinja_with_sigmoid_version.ipynb\" target=\"_parent\"><img src=\"https://colab.research.google.com/assets/colab-badge.svg\" alt=\"Open In Colab\"/></a>"
      ]
    },
    {
      "cell_type": "code",
      "execution_count": null,
      "metadata": {
        "id": "0Uedimo6_q1_"
      },
      "outputs": [],
      "source": [
        "import torch\n",
        "from torch.nn import functional as F\n"
      ]
    },
    {
      "cell_type": "code",
      "source": [
        "w1 = torch.randn(4,5,requires_grad=True)\n",
        "w2 = torch.randn(5,1,requires_grad=True)\n"
      ],
      "metadata": {
        "id": "4hZ9cKdn_tO8"
      },
      "execution_count": null,
      "outputs": []
    },
    {
      "cell_type": "code",
      "source": [
        "data = torch.randn(10,4)\n"
      ],
      "metadata": {
        "id": "P5rl2t_z_y_k"
      },
      "execution_count": null,
      "outputs": []
    },
    {
      "cell_type": "code",
      "source": [
        "o1 = data @ w1\n",
        "o2 = o1 @ w2\n",
        "out = torch.sigmoid(o2)"
      ],
      "metadata": {
        "id": "okMst9U5_3PJ"
      },
      "execution_count": null,
      "outputs": []
    },
    {
      "cell_type": "code",
      "source": [
        "real_label = torch.cat([torch.ones(5),torch.zeros(5)])"
      ],
      "metadata": {
        "id": "J13u0xbqABeO"
      },
      "execution_count": null,
      "outputs": []
    },
    {
      "cell_type": "code",
      "source": [
        "loss = torch.nn.BCELoss()\n",
        "loss_fn = loss(out.view(-1),real_label)"
      ],
      "metadata": {
        "id": "nAV8RAeJAJqM"
      },
      "execution_count": null,
      "outputs": []
    },
    {
      "cell_type": "code",
      "source": [
        "loss_fn.backward()"
      ],
      "metadata": {
        "id": "lX0juBGgAVm-"
      },
      "execution_count": null,
      "outputs": []
    },
    {
      "cell_type": "code",
      "source": [
        "loss2 = - (real_label * torch.log(out.view(-1)) + (1 - real_label) * torch.log(1 - out.view(-1)))\n"
      ],
      "metadata": {
        "id": "jnl-yqfXoetb"
      },
      "execution_count": null,
      "outputs": []
    },
    {
      "cell_type": "code",
      "source": [
        "loss_fn"
      ],
      "metadata": {
        "colab": {
          "base_uri": "https://localhost:8080/"
        },
        "id": "N2Ce9fGToq4i",
        "outputId": "c734e6d4-c3d5-4819-94da-0a9a8d524ee2"
      },
      "execution_count": null,
      "outputs": [
        {
          "output_type": "execute_result",
          "data": {
            "text/plain": [
              "tensor(1.2539, grad_fn=<BinaryCrossEntropyBackward0>)"
            ]
          },
          "metadata": {},
          "execution_count": 311
        }
      ]
    },
    {
      "cell_type": "code",
      "source": [
        "loss2.mean()"
      ],
      "metadata": {
        "colab": {
          "base_uri": "https://localhost:8080/"
        },
        "id": "Yb1bA1Pxovp6",
        "outputId": "f614a7df-0705-46da-9270-de6df6a6cf38"
      },
      "execution_count": null,
      "outputs": [
        {
          "output_type": "execute_result",
          "data": {
            "text/plain": [
              "tensor(1.2539, grad_fn=<MeanBackward0>)"
            ]
          },
          "metadata": {},
          "execution_count": 312
        }
      ]
    },
    {
      "cell_type": "code",
      "source": [
        "pb = torch.zeros(10)\n",
        "dpb = torch.ones(10)\n",
        "# pb is the vector of the binary cross entropy loss , -log(y) for pb of 1 -log(1-y) for pb of 0\n",
        "for i in range(10):\n",
        "  if i < 5 :\n",
        "    pb[i] = -torch.log(out[i])\n",
        "  else :\n",
        "    pb[i] = -torch.log(1-out[i])\n",
        "dpb = dpb/10"
      ],
      "metadata": {
        "id": "YDKJMxuesZKf"
      },
      "execution_count": null,
      "outputs": []
    },
    {
      "cell_type": "code",
      "source": [
        "dy = torch.zeros(10)\n",
        "for i in range(10):\n",
        "  if i < 5 :\n",
        "    dy[i] = dpb[i] * (-1 /out[i])\n",
        "  else :\n",
        "    dy[i] = dpb[i] * (1/(1-out[i]))"
      ],
      "metadata": {
        "id": "TBdk6_wyBda7"
      },
      "execution_count": null,
      "outputs": []
    },
    {
      "cell_type": "code",
      "source": [
        "dlogits = (out.view(-1) * (1 - out.view(-1)) )* dy"
      ],
      "metadata": {
        "id": "oAYR4YrIBiEY"
      },
      "execution_count": null,
      "outputs": []
    },
    {
      "cell_type": "code",
      "source": [
        "dlogits"
      ],
      "metadata": {
        "colab": {
          "base_uri": "https://localhost:8080/"
        },
        "id": "HejbqsOWwJ7Z",
        "outputId": "1596d4d5-e289-4af2-9916-d3b11b86f00b"
      },
      "execution_count": null,
      "outputs": [
        {
          "output_type": "execute_result",
          "data": {
            "text/plain": [
              "tensor([-0.0776, -0.0529, -0.0966, -0.0997, -0.0282,  0.0456,  0.0050,  0.0033,\n",
              "         0.0017,  0.0002], grad_fn=<MulBackward0>)"
            ]
          },
          "metadata": {},
          "execution_count": 317
        }
      ]
    },
    {
      "cell_type": "code",
      "source": [
        "# apply directly the gradient on the logits and compare it to my backprop\n",
        "dout = out\n",
        "dout[range(5)] += -1\n",
        "dout = dout/10"
      ],
      "metadata": {
        "id": "Q80oxDV10_l7"
      },
      "execution_count": null,
      "outputs": []
    },
    {
      "cell_type": "code",
      "source": [
        "dout"
      ],
      "metadata": {
        "colab": {
          "base_uri": "https://localhost:8080/"
        },
        "id": "vsm00KNX0b6C",
        "outputId": "a6552731-8120-4de6-828c-667adf938f4d"
      },
      "execution_count": null,
      "outputs": [
        {
          "output_type": "execute_result",
          "data": {
            "text/plain": [
              "tensor([[-0.0776],\n",
              "        [-0.0529],\n",
              "        [-0.0966],\n",
              "        [-0.0997],\n",
              "        [-0.0282],\n",
              "        [ 0.0456],\n",
              "        [ 0.0050],\n",
              "        [ 0.0033],\n",
              "        [ 0.0017],\n",
              "        [ 0.0002]], grad_fn=<DivBackward0>)"
            ]
          },
          "metadata": {},
          "execution_count": 320
        }
      ]
    },
    {
      "cell_type": "code",
      "source": [
        "dw2 = o1.T @ dlogits.view(-1,1)"
      ],
      "metadata": {
        "id": "CwsxXtXWBr-z"
      },
      "execution_count": null,
      "outputs": []
    },
    {
      "cell_type": "code",
      "source": [
        "do1 = dlogits.view(-1,1) @ w2.T"
      ],
      "metadata": {
        "id": "pWnyLu6VuAuI"
      },
      "execution_count": null,
      "outputs": []
    },
    {
      "cell_type": "code",
      "source": [
        "dw1 = data.T  @ do1"
      ],
      "metadata": {
        "id": "Kmrpn41suBOY"
      },
      "execution_count": null,
      "outputs": []
    },
    {
      "cell_type": "code",
      "source": [
        "torch.allclose(dw2,w2.grad)"
      ],
      "metadata": {
        "colab": {
          "base_uri": "https://localhost:8080/"
        },
        "id": "iAUdXyF6uZHK",
        "outputId": "3df07ab9-cbca-400c-d5f2-85f11029e65b"
      },
      "execution_count": null,
      "outputs": [
        {
          "output_type": "execute_result",
          "data": {
            "text/plain": [
              "True"
            ]
          },
          "metadata": {},
          "execution_count": 326
        }
      ]
    },
    {
      "cell_type": "code",
      "source": [
        "torch.allclose(dw1,w1.grad)"
      ],
      "metadata": {
        "colab": {
          "base_uri": "https://localhost:8080/"
        },
        "id": "ga2KTBnIu3bN",
        "outputId": "8ec2b759-981f-48a8-932f-a4ec8ca23a3d"
      },
      "execution_count": null,
      "outputs": [
        {
          "output_type": "execute_result",
          "data": {
            "text/plain": [
              "True"
            ]
          },
          "metadata": {},
          "execution_count": 328
        }
      ]
    }
  ]
}